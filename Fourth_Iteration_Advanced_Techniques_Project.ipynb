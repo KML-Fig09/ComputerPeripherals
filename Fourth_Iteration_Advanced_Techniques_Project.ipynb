{
  "nbformat": 4,
  "nbformat_minor": 0,
  "metadata": {
    "colab": {
      "provenance": [],
      "authorship_tag": "ABX9TyMxuQSLaPgJm7yj1tMKBev6",
      "include_colab_link": true
    },
    "kernelspec": {
      "name": "python3",
      "display_name": "Python 3"
    },
    "language_info": {
      "name": "python"
    }
  },
  "cells": [
    {
      "cell_type": "markdown",
      "metadata": {
        "id": "view-in-github",
        "colab_type": "text"
      },
      "source": [
        "<a href=\"https://colab.research.google.com/github/KML-Fig09/ComputerPeripherals/blob/FirstBranch/Fourth_Iteration_Advanced_Techniques_Project.ipynb\" target=\"_parent\"><img src=\"https://colab.research.google.com/assets/colab-badge.svg\" alt=\"Open In Colab\"/></a>"
      ]
    },
    {
      "cell_type": "code",
      "execution_count": null,
      "metadata": {
        "collapsed": true,
        "id": "pB3CqnIRa1WY"
      },
      "outputs": [],
      "source": [
        "# Installation module for necessary libraries\n",
        "!pip install torch torchvision yolov5 opencv-python pillow==10.3.0 gitpython onnx"
      ]
    },
    {
      "cell_type": "code",
      "source": [
        "# Setup module\n",
        "import os\n",
        "from pathlib import Path\n",
        "from git import Repo\n",
        "\n",
        "# Constants\n",
        "BASE_PATH = Path('/content')\n",
        "YOLOV5_ZIP = BASE_PATH / 'yolov5zipped.zip.zip'\n",
        "DATASET_ZIP = BASE_PATH / 'ComputerPeripheralsZipped.zip.zip'\n",
        "YOLOV5_DIR = BASE_PATH / 'yolov5'\n",
        "DATASET_DIR = BASE_PATH / 'ComputerPeripherals'\n",
        "CUSTOM_REPO = 'https://github.com/KML-Fig09/ComputerPeripherals.git'\n",
        "CUSTOM_REPO_DIR = BASE_PATH / 'custom_repo'\n",
        "\n",
        "# Helper functions\n",
        "def create_dir(directory):\n",
        "    if not directory.exists():\n",
        "        directory.mkdir(parents=True, exist_ok=True)\n",
        "\n",
        "def unzip_file(zip_path, extract_to):\n",
        "    !unzip -q {zip_path} -d {extract_to}\n",
        "\n",
        "# Create directories\n",
        "create_dir(YOLOV5_DIR)\n",
        "create_dir(DATASET_DIR)\n",
        "\n",
        "# Unzip YOLOv5 and Dataset\n",
        "unzip_file(YOLOV5_ZIP, YOLOV5_DIR)\n",
        "unzip_file(DATASET_ZIP, DATASET_DIR)\n",
        "\n",
        "# Clone Custom Repository\n",
        "def clone_repo(url, clone_dir):\n",
        "    if not clone_dir.exists():\n",
        "        Repo.clone_from(url, clone_dir)\n",
        "\n",
        "clone_repo(CUSTOM_REPO, CUSTOM_REPO_DIR)"
      ],
      "metadata": {
        "id": "LZb7ei0fbg05"
      },
      "execution_count": 2,
      "outputs": []
    },
    {
      "cell_type": "code",
      "source": [
        "# Ensure the correct directory\n",
        "os.chdir(YOLOV5_DIR)\n",
        "\n",
        "# Verify files\n",
        "!ls /content/yolov5/models\n",
        "\n",
        "# Add models directory to Python path\n",
        "import sys\n",
        "sys.path.append(str(YOLOV5_DIR / 'models'))\n",
        "\n",
        "# Import CBAM\n",
        "try:\n",
        "    from cbam import CBAM\n",
        "    print(\"CBAM module imported successfully!\")\n",
        "except ModuleNotFoundError as e:\n",
        "    print(f\"Error: {e}\")"
      ],
      "metadata": {
        "id": "-r5pJRPTbZT5",
        "colab": {
          "base_uri": "https://localhost:8080/"
        },
        "collapsed": true,
        "outputId": "9488eb47-d171-4458-ccc4-bc81b8f8fbaa"
      },
      "execution_count": 3,
      "outputs": [
        {
          "output_type": "stream",
          "name": "stdout",
          "text": [
            "cbam.py    experimental.py  __init__.py  segment  yolo.py\tyolov5m.yaml  yolov5s.yaml\n",
            "common.py  hub\t\t    __pycache__  tf.py\t  yolov5l.yaml\tyolov5n.yaml  yolov5x.yaml\n",
            "CBAM module imported successfully!\n"
          ]
        }
      ]
    },
    {
      "cell_type": "code",
      "source": [
        "# Training Module\n",
        "def train_model(data_yaml, config_file, hyp_file):\n",
        "    !python /content/yolov5/train.py --img 640 --batch 16 --epochs 5 --data {data_yaml} --cfg {config_file} --weights '' --name custom_model --hyp {hyp_file}\n",
        "\n",
        "# Customize: Update paths to your config, hyp file if needed\n",
        "train_model(DATASET_DIR / 'data.yaml', YOLOV5_DIR / 'customyolov5.yaml', 'hyp.Objects365.yaml')"
      ],
      "metadata": {
        "id": "MEjNnfJJbUBo",
        "colab": {
          "base_uri": "https://localhost:8080/"
        },
        "collapsed": true,
        "outputId": "5c5d6b0d-8d44-4504-e903-4f3eba4153f8"
      },
      "execution_count": 4,
      "outputs": [
        {
          "output_type": "stream",
          "name": "stdout",
          "text": [
            "Traceback (most recent call last):\n",
            "  File \"/content/yolov5/train.py\", line 49, in <module>\n",
            "    from models.yolo import Model\n",
            "  File \"/content/yolov5/models/yolo.py\", line 8, in <module>\n",
            "    from cbam import CBAM\n",
            "ModuleNotFoundError: No module named 'cbam'\n"
          ]
        }
      ]
    },
    {
      "cell_type": "code",
      "source": [
        "# Model Handling module"
      ],
      "metadata": {
        "id": "LN4m81qDbGzu"
      },
      "execution_count": null,
      "outputs": []
    },
    {
      "cell_type": "code",
      "source": [
        "# Inference Module"
      ],
      "metadata": {
        "id": "b2EAy5D7bIki"
      },
      "execution_count": null,
      "outputs": []
    },
    {
      "cell_type": "code",
      "source": [
        "# Export and deploy model"
      ],
      "metadata": {
        "id": "MRUQfi5kbLWQ"
      },
      "execution_count": null,
      "outputs": []
    }
  ]
}